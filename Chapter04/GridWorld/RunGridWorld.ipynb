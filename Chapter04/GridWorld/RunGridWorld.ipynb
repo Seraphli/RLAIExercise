{
 "cells": [
  {
   "cell_type": "code",
   "execution_count": 1,
   "metadata": {
    "collapsed": true
   },
   "outputs": [
    {
     "name": "stdout",
     "output_type": "stream",
     "text": [
      "|--------+--------+--------+--------|\n|   0.000| -14.000| -20.000| -22.000|\n|--------+--------+--------+--------|\n| -14.000| -18.000| -20.000| -20.000|\n|--------+--------+--------+--------|\n| -20.000| -20.000| -18.000| -14.000|\n|--------+--------+--------+--------|\n| -22.000| -20.000| -14.000|   0.000|\n|--------+--------+--------+--------|\n\n"
     ]
    }
   ],
   "source": [
    "from GridWorld import GridWorld, RandomPolicy"
   ]
  },
  {
   "cell_type": "markdown",
   "metadata": {
    "collapsed": true
   },
   "source": [
    "The left side of Figure 4.1"
   ]
  },
  {
   "cell_type": "code",
   "execution_count": 2,
   "metadata": {
    "collapsed": true
   },
   "outputs": [
    {
     "name": "stdout",
     "output_type": "stream",
     "text": [
      "|--------+--------+--------+--------|\n|   0.000| -14.000| -20.000| -22.000|\n|--------+--------+--------+--------|\n| -14.000| -18.000| -20.000| -20.000|\n|--------+--------+--------+--------|\n| -20.000| -20.000| -18.000| -14.000|\n|--------+--------+--------+--------|\n| -22.000| -20.000| -14.000|   0.000|\n|--------+--------+--------+--------|\n\n"
     ]
    }
   ],
   "source": [
    "# World configuration\n",
    "world_size = (4, 4)\n",
    "special_state = [([0, 0], [-1, -1], range(4)), ([3, 3], [-1, -1], range(4))]\n",
    "\n",
    "# Initialize grid world\n",
    "world = GridWorld(world_size, special_state)\n",
    "\n",
    "# Policy configuration\n",
    "policy = RandomPolicy(1)\n",
    "\n",
    "# Iteration\n",
    "iteration = 0\n",
    "diffs = []\n",
    "while not (world.diff < 1e-4):\n",
    "    world.step(policy)\n",
    "    iteration += 1\n",
    "    diffs.append(world.diff)\n",
    "\n",
    "# Show value matrix\n",
    "world.show_value(3, 5)"
   ]
  },
  {
   "cell_type": "markdown",
   "metadata": {},
   "source": [
    "Assume that the transitions from the original states are unchanged."
   ]
  },
  {
   "cell_type": "code",
   "execution_count": 3,
   "metadata": {},
   "outputs": [
    {
     "name": "stdout",
     "output_type": "stream",
     "text": [
      "|--------+--------+--------+--------|\n|   0.000| -11.507| -16.744| -18.693|\n|--------+--------+--------+--------|\n| -10.008| -13.777| -16.032| -16.642|\n|--------+--------+--------+--------|\n| -12.247| -13.563| -12.963| -11.202|\n|--------+--------+--------+--------|\n|  -9.170| -11.263|  -7.057|   0.000|\n|--------+--------+--------+--------|\n|   0.000| -10.496|   0.000|   0.000|\n|--------+--------+--------+--------|\n\n"
     ]
    }
   ],
   "source": [
    "# World configuration\n",
    "world_size = (5, 4)\n",
    "special_state = [([0, 0], [-1, -1], range(4)), ([3, 3], [-1, -1], range(4)), ([4, 0], [-1, -1], range(4)),\n",
    "                 ([4, 2], [-1, -1], range(4)), ([4, 3], [-1, -1], range(4)), ([4, 1], [3, 1], [0]),\n",
    "                 ([4, 1], [4, 1], [1]), ([4, 1], [3, 0], [2]), ([4, 1], [3, 2], [3]), ([3, 1], [3, 1], [1])]\n",
    "\n",
    "# Initialize grid world\n",
    "world = GridWorld(world_size, special_state)\n",
    "\n",
    "# Policy configuration\n",
    "policy = RandomPolicy(1)\n",
    "\n",
    "# Iteration\n",
    "iteration = 0\n",
    "diffs = []\n",
    "while not (world.diff < 1e-4):\n",
    "    world.step(policy)\n",
    "    iteration += 1\n",
    "    diffs.append(world.diff)\n",
    "\n",
    "# Show value matrix\n",
    "world.show_value(3, 5)"
   ]
  },
  {
   "cell_type": "markdown",
   "metadata": {},
   "source": [
    "Now suppose the dynamics of state 13 are also changed, such that action down from state 13 takes the agent to the new state 15."
   ]
  },
  {
   "cell_type": "code",
   "execution_count": 4,
   "metadata": {},
   "outputs": [
    {
     "name": "stdout",
     "output_type": "stream",
     "text": [
      "|--------+--------+--------+--------|\n|   0.000| -11.446| -16.665| -18.614|\n|--------+--------+--------+--------|\n|  -9.924| -13.672| -15.937| -16.562|\n|--------+--------+--------+--------|\n| -12.101| -13.380| -12.847| -11.137|\n|--------+--------+--------+--------|\n|  -9.000| -10.899|  -6.936|   0.000|\n|--------+--------+--------+--------|\n|   0.000| -10.278|   0.000|   0.000|\n|--------+--------+--------+--------|\n\n"
     ]
    }
   ],
   "source": [
    "# World configuration\n",
    "world_size = (5, 4)\n",
    "special_state = [([0, 0], [-1, -1], range(4)), ([3, 3], [-1, -1], range(4)), ([4, 0], [-1, -1], range(4)),\n",
    "                 ([4, 2], [-1, -1], range(4)), ([4, 3], [-1, -1], range(4)), ([4, 1], [3, 1], [0]),\n",
    "                 ([4, 1], [4, 1], [1]), ([4, 1], [3, 0], [2]), ([4, 1], [3, 2], [3])]\n",
    "\n",
    "# Initialize grid world\n",
    "world = GridWorld(world_size, special_state)\n",
    "\n",
    "# Policy configuration\n",
    "policy = RandomPolicy(1)\n",
    "\n",
    "# Iteration\n",
    "iteration = 0\n",
    "diffs = []\n",
    "while not (world.diff < 1e-4):\n",
    "    world.step(policy)\n",
    "    iteration += 1\n",
    "    diffs.append(world.diff)\n",
    "\n",
    "# Show value matrix\n",
    "world.show_value(3, 5)"
   ]
  },
  {
   "cell_type": "code",
   "execution_count": null,
   "metadata": {},
   "outputs": [],
   "source": [
    ""
   ]
  }
 ],
 "metadata": {
  "kernelspec": {
   "display_name": "Python 2",
   "language": "python",
   "name": "python2"
  },
  "language_info": {
   "codemirror_mode": {
    "name": "ipython",
    "version": 2.0
   },
   "file_extension": ".py",
   "mimetype": "text/x-python",
   "name": "python",
   "nbconvert_exporter": "python",
   "pygments_lexer": "ipython2",
   "version": "2.7.6"
  }
 },
 "nbformat": 4,
 "nbformat_minor": 0
}